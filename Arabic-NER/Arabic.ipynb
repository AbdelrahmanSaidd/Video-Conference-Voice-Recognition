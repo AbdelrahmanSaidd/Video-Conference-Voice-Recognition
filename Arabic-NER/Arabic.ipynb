{
 "cells": [
  {
   "cell_type": "code",
   "execution_count": 1,
   "metadata": {},
   "outputs": [
    {
     "name": "stderr",
     "output_type": "stream",
     "text": [
      "Cloning into 'klaam'...\n",
      "Updating files:  30% (53/175)\n",
      "Updating files:  31% (55/175)\n",
      "Updating files:  32% (56/175)\n",
      "Updating files:  33% (58/175)\n",
      "Updating files:  34% (60/175)\n",
      "Updating files:  35% (62/175)\n",
      "Updating files:  36% (63/175)\n",
      "Updating files:  37% (65/175)\n",
      "Updating files:  38% (67/175)\n",
      "Updating files:  39% (69/175)\n",
      "Updating files:  40% (70/175)\n",
      "Updating files:  41% (72/175)\n",
      "Updating files:  42% (74/175)\n",
      "Updating files:  43% (76/175)\n",
      "Updating files:  44% (77/175)\n",
      "Updating files:  45% (79/175)\n",
      "Updating files:  46% (81/175)\n",
      "Updating files:  47% (83/175)\n",
      "Updating files:  48% (84/175)\n",
      "Updating files:  49% (86/175)\n",
      "Updating files:  50% (88/175)\n",
      "Updating files:  51% (90/175)\n",
      "Updating files:  52% (91/175)\n",
      "Updating files:  53% (93/175)\n",
      "Updating files:  54% (95/175)\n",
      "Updating files:  55% (97/175)\n",
      "Updating files:  56% (98/175)\n",
      "Updating files:  57% (100/175)\n",
      "Updating files:  58% (102/175)\n",
      "Updating files:  59% (104/175)\n",
      "Updating files:  60% (105/175)\n",
      "Updating files:  61% (107/175)\n",
      "Updating files:  62% (109/175)\n",
      "Updating files:  63% (111/175)\n",
      "Updating files:  64% (112/175)\n",
      "Updating files:  65% (114/175)\n",
      "Updating files:  66% (116/175)\n",
      "Updating files:  67% (118/175)\n",
      "Updating files:  68% (119/175)\n",
      "Updating files:  69% (121/175)\n",
      "Updating files:  70% (123/175)\n",
      "Updating files:  71% (125/175)\n",
      "Updating files:  72% (126/175)\n",
      "Updating files:  73% (128/175)\n",
      "Updating files:  74% (130/175)\n",
      "Updating files:  75% (132/175)\n",
      "Updating files:  76% (133/175)\n",
      "Updating files:  77% (135/175)\n",
      "Updating files:  78% (137/175)\n",
      "Updating files:  79% (139/175)\n",
      "Updating files:  80% (140/175)\n",
      "Updating files:  81% (142/175)\n",
      "Updating files:  82% (144/175)\n",
      "Updating files:  83% (146/175)\n",
      "Updating files:  84% (147/175)\n",
      "Updating files:  85% (149/175)\n",
      "Updating files:  86% (151/175)\n",
      "Updating files:  87% (153/175)\n",
      "Updating files:  88% (154/175)\n",
      "Updating files:  89% (156/175)\n",
      "Updating files:  90% (158/175)\n",
      "Updating files:  91% (160/175)\n",
      "Updating files:  92% (161/175)\n",
      "Updating files:  93% (163/175)\n",
      "Updating files:  94% (165/175)\n",
      "Updating files:  95% (167/175)\n",
      "Updating files:  96% (168/175)\n",
      "Updating files:  97% (170/175)\n",
      "Updating files:  98% (172/175)\n",
      "Updating files:  99% (174/175)\n",
      "Updating files: 100% (175/175)\n",
      "Updating files: 100% (175/175), done.\n"
     ]
    }
   ],
   "source": [
    "!git clone https://github.com/ARBML/klaam"
   ]
  },
  {
   "cell_type": "code",
   "execution_count": 13,
   "metadata": {},
   "outputs": [
    {
     "name": "stdout",
     "output_type": "stream",
     "text": [
      "Collecting nltk\n",
      "  Downloading nltk-3.8.1-py3-none-any.whl.metadata (2.8 kB)\n",
      "Requirement already satisfied: click in c:\\users\\omar-\\desktop\\spring 2024\\thesis\\asr-ner\\.venv\\lib\\site-packages (from nltk) (8.1.7)\n",
      "Requirement already satisfied: joblib in c:\\users\\omar-\\desktop\\spring 2024\\thesis\\asr-ner\\.venv\\lib\\site-packages (from nltk) (1.3.2)\n",
      "Requirement already satisfied: regex>=2021.8.3 in c:\\users\\omar-\\desktop\\spring 2024\\thesis\\asr-ner\\.venv\\lib\\site-packages (from nltk) (2023.12.25)\n",
      "Requirement already satisfied: tqdm in c:\\users\\omar-\\desktop\\spring 2024\\thesis\\asr-ner\\.venv\\lib\\site-packages (from nltk) (4.66.2)\n",
      "Requirement already satisfied: colorama in c:\\users\\omar-\\desktop\\spring 2024\\thesis\\asr-ner\\.venv\\lib\\site-packages (from click->nltk) (0.4.6)\n",
      "Downloading nltk-3.8.1-py3-none-any.whl (1.5 MB)\n",
      "   ---------------------------------------- 0.0/1.5 MB ? eta -:--:--\n",
      "   - -------------------------------------- 0.1/1.5 MB 1.3 MB/s eta 0:00:02\n",
      "   ----- ---------------------------------- 0.2/1.5 MB 2.3 MB/s eta 0:00:01\n",
      "   ---------- ----------------------------- 0.4/1.5 MB 2.8 MB/s eta 0:00:01\n",
      "   --------------- ------------------------ 0.6/1.5 MB 3.1 MB/s eta 0:00:01\n",
      "   ------------------- -------------------- 0.7/1.5 MB 3.1 MB/s eta 0:00:01\n",
      "   ------------------------ --------------- 0.9/1.5 MB 3.3 MB/s eta 0:00:01\n",
      "   ----------------------------- ---------- 1.1/1.5 MB 3.4 MB/s eta 0:00:01\n",
      "   ---------------------------------- ----- 1.3/1.5 MB 3.5 MB/s eta 0:00:01\n",
      "   ---------------------------------------  1.5/1.5 MB 3.6 MB/s eta 0:00:01\n",
      "   ---------------------------------------  1.5/1.5 MB 3.5 MB/s eta 0:00:01\n",
      "   ---------------------------------------  1.5/1.5 MB 3.5 MB/s eta 0:00:01\n",
      "   ---------------------------------------  1.5/1.5 MB 3.5 MB/s eta 0:00:01\n",
      "   ---------------------------------------  1.5/1.5 MB 3.5 MB/s eta 0:00:01\n",
      "   ---------------------------------------  1.5/1.5 MB 3.5 MB/s eta 0:00:01\n",
      "   ---------------------------------------  1.5/1.5 MB 3.5 MB/s eta 0:00:01\n",
      "   ---------------------------------------  1.5/1.5 MB 3.5 MB/s eta 0:00:01\n",
      "   ---------------------------------------  1.5/1.5 MB 3.5 MB/s eta 0:00:01\n",
      "   ---------------------------------------  1.5/1.5 MB 3.5 MB/s eta 0:00:01\n",
      "   ---------------------------------------  1.5/1.5 MB 3.5 MB/s eta 0:00:01\n",
      "   ---------------------------------------  1.5/1.5 MB 3.5 MB/s eta 0:00:01\n",
      "   ---------------------------------------  1.5/1.5 MB 3.5 MB/s eta 0:00:01\n",
      "   ---------------------------------------  1.5/1.5 MB 3.5 MB/s eta 0:00:01\n",
      "   ---------------------------------------  1.5/1.5 MB 3.5 MB/s eta 0:00:01\n",
      "   ---------------------------------------  1.5/1.5 MB 3.5 MB/s eta 0:00:01\n",
      "   ---------------------------------------  1.5/1.5 MB 3.5 MB/s eta 0:00:01\n",
      "   ---------------------------------------- 1.5/1.5 MB 1.2 MB/s eta 0:00:00\n",
      "Installing collected packages: nltk\n",
      "Successfully installed nltk-3.8.1\n"
     ]
    }
   ],
   "source": [
    "#!pip install -r requirements.txt\n",
    "#!pip install inflect\n",
    "#!pip install gdown\n",
    "#!pip install matplotlib\n",
    "!pip install nltk"
   ]
  },
  {
   "cell_type": "code",
   "execution_count": 11,
   "metadata": {},
   "outputs": [
    {
     "name": "stderr",
     "output_type": "stream",
     "text": [
      "c:\\Users\\omar-\\Desktop\\Spring 2024\\Thesis\\ASR-NER\\.venv\\Lib\\site-packages\\transformers\\configuration_utils.py:363: UserWarning: Passing `gradient_checkpointing` to a config initialization is deprecated and will be removed in v5 Transformers. Using `model.gradient_checkpointing_enable()` instead, or if you are using the `Trainer` API, pass `gradient_checkpointing=True` in your `TrainingArguments`.\n",
      "  warnings.warn(\n",
      "Some weights of the model checkpoint at arbml/wav2vec2-large-xlsr-53-arabic-egyptian were not used when initializing Wav2Vec2ForCTC: ['wav2vec2.encoder.pos_conv_embed.conv.weight_g', 'wav2vec2.encoder.pos_conv_embed.conv.weight_v']\n",
      "- This IS expected if you are initializing Wav2Vec2ForCTC from the checkpoint of a model trained on another task or with another architecture (e.g. initializing a BertForSequenceClassification model from a BertForPreTraining model).\n",
      "- This IS NOT expected if you are initializing Wav2Vec2ForCTC from the checkpoint of a model that you expect to be exactly identical (initializing a BertForSequenceClassification model from a BertForSequenceClassification model).\n",
      "Some weights of Wav2Vec2ForCTC were not initialized from the model checkpoint at arbml/wav2vec2-large-xlsr-53-arabic-egyptian and are newly initialized: ['wav2vec2.encoder.pos_conv_embed.conv.parametrizations.weight.original0', 'wav2vec2.encoder.pos_conv_embed.conv.parametrizations.weight.original1']\n",
      "You should probably TRAIN this model on a down-stream task to be able to use it for predictions and inference.\n"
     ]
    }
   ],
   "source": [
    "from klaam import SpeechRecognition\n",
    "asrmodel = SpeechRecognition()\n",
    "text=asrmodel.transcribe('demo.wav')"
   ]
  },
  {
   "cell_type": "code",
   "execution_count": 14,
   "metadata": {},
   "outputs": [
    {
     "name": "stderr",
     "output_type": "stream",
     "text": [
      "[nltk_data] Downloading package punkt to\n",
      "[nltk_data]     C:\\Users\\omar-\\AppData\\Roaming\\nltk_data...\n",
      "[nltk_data]   Unzipping tokenizers\\punkt.zip.\n",
      "c:\\Users\\omar-\\Desktop\\Spring 2024\\Thesis\\ASR-NER\\.venv\\Lib\\site-packages\\huggingface_hub\\file_download.py:148: UserWarning: `huggingface_hub` cache-system uses symlinks by default to efficiently store duplicated files but your machine does not support them in C:\\Users\\omar-\\.cache\\huggingface\\hub\\models--hatmimoha--arabic-ner. Caching files will still work but in a degraded version that might require more space on your disk. This warning can be disabled by setting the `HF_HUB_DISABLE_SYMLINKS_WARNING` environment variable. For more details, see https://huggingface.co/docs/huggingface_hub/how-to-cache#limitations.\n",
      "To support symlinks on Windows, you either need to activate Developer Mode or to run Python as an administrator. In order to see activate developer mode, see this article: https://docs.microsoft.com/en-us/windows/apps/get-started/enable-your-device-for-development\n",
      "  warnings.warn(message)\n",
      "Asking to truncate to max_length but no maximum length is provided and the model has no predefined maximum length. Default to no truncation.\n"
     ]
    },
    {
     "name": "stdout",
     "output_type": "stream",
     "text": [
      "عمر\tB-PERSON\n",
      "محمد\tI-PERSON\n"
     ]
    }
   ],
   "source": [
    "import nltk\n",
    "nltk.download('punkt')  # Download the required tokenizer data\n",
    "import torch\n",
    "from transformers import AutoModelForTokenClassification, AutoTokenizer\n",
    "from transformers import pipeline\n",
    "#from helpers import split_sentences\n",
    "import time\n",
    "from klaam import SpeechRecognition\n",
    "\n",
    "# Load the model\n",
    "device = torch.device(\"cuda\" if torch.cuda.is_available() else \"cpu\")\n",
    "tokenizer = AutoTokenizer.from_pretrained(\"hatmimoha/arabic-ner\")\n",
    "model = AutoModelForTokenClassification.from_pretrained(\"hatmimoha/arabic-ner\")\n",
    "\n",
    "nlp = pipeline(\"ner\", model=model, tokenizer=tokenizer)\n",
    "\n",
    "# Tag the text\n",
    "start_time = time.time()\n",
    "#text = 'رغم الهدنة .. معارك قره باغ متواصلة وأذربيجان تعلن سيطرتها على مزيد من القرى'\n",
    "sentences = nltk.sent_tokenize(text)\n",
    "\n",
    "annotations = nlp(sentences)\n",
    "\n",
    "entities = []\n",
    "tags = []\n",
    "for sentence in annotations:\n",
    "  for item in sentence:\n",
    "    if item[\"word\"].startswith(\"##\"):\n",
    "      entities[-1] = entities[-1] + item[\"word\"].replace(\"##\", \"\")\n",
    "    else:\n",
    "      entities.append(item[\"word\"])\n",
    "      tags.append(item[\"entity\"])\n",
    "\n",
    "for item, label in zip(entities, tags):\n",
    "  print(item + \"\\t\" + label)\n"
   ]
  }
 ],
 "metadata": {
  "kernelspec": {
   "display_name": ".venv",
   "language": "python",
   "name": "python3"
  },
  "language_info": {
   "codemirror_mode": {
    "name": "ipython",
    "version": 3
   },
   "file_extension": ".py",
   "mimetype": "text/x-python",
   "name": "python",
   "nbconvert_exporter": "python",
   "pygments_lexer": "ipython3",
   "version": "3.11.8"
  }
 },
 "nbformat": 4,
 "nbformat_minor": 2
}
